{
 "cells": [
  {
   "cell_type": "code",
   "execution_count": null,
   "metadata": {},
   "outputs": [],
   "source": [
    "import sys\n",
    "\n",
    "sys.path.append(\"../\")\n",
    "from hamilton_neural_network import (\n",
    "    TrainTestData,\n",
    "    LatentHamiltonianNeuralNetwork,\n",
    ")\n",
    "from hamilton_system import HamiltonianSystem\n",
    "from pdf_models import NegLogIndepedentGaussians, NegLogNealFunnel\n",
    "import tensorflow as tf\n",
    "import matplotlib.pyplot as plt\n",
    "from no_u_turn.nuts import NoUTurnSampling\n",
    "\n",
    "tf.random.set_seed(0)"
   ]
  },
  {
   "cell_type": "code",
   "execution_count": null,
   "metadata": {},
   "outputs": [],
   "source": [
    "U = NegLogNealFunnel()\n",
    "K = NegLogIndepedentGaussians(tf.constant([0.0, 0.0]), tf.constant([1.0, 1.0]))\n",
    "q0 = tf.constant([[0.0, 0.0]])\n",
    "p0 = tf.random.normal(q0.shape)\n",
    "T = 120.0\n",
    "leap_frog_per_unit = 40\n",
    "num_samples = 40\n",
    "num_train = int(0.9 * num_samples * leap_frog_per_unit * T)"
   ]
  },
  {
   "cell_type": "code",
   "execution_count": null,
   "metadata": {},
   "outputs": [],
   "source": [
    "train_test_data = TrainTestData(num_samples, T, leap_frog_per_unit, q0, p0, U=U, K=K)\n",
    "samples = train_test_data()\n",
    "tf.io.write_file(\"../exps/demo3_train_test_data.txt\", tf.io.serialize_tensor(samples))"
   ]
  },
  {
   "cell_type": "code",
   "execution_count": null,
   "metadata": {},
   "outputs": [],
   "source": [
    "file = tf.io.read_file(\"../exps/demo3_train_test_data.txt\")\n",
    "train_test_data = tf.io.parse_tensor(file, out_type=tf.float32)\n",
    "train_test_data = tf.random.shuffle(train_test_data)\n",
    "train_data = train_test_data[:num_train, :]\n",
    "test_data = train_test_data[num_train:, :]\n",
    "print(train_data.shape, test_data.shape)\n",
    "lhnn = LatentHamiltonianNeuralNetwork(3, 100, 2)\n",
    "lhnn.build(input_shape=(1, 4))\n",
    "train_hist, test_hist = lhnn.train(\n",
    "    1000, 1000, 5e-4, train_data, test_data, save_dir=\"../exps/demo3_lhnn.weights.h5\"\n",
    ")"
   ]
  },
  {
   "cell_type": "code",
   "execution_count": null,
   "metadata": {},
   "outputs": [],
   "source": [
    "lhnn = LatentHamiltonianNeuralNetwork(3, 100, 2)\n",
    "lhnn.build(input_shape=(1, 4))\n",
    "lhnn.load_weights(\"../exps/demo3_lhnn.weights.h5\")\n",
    "U = NegLogNealFunnel()\n",
    "K = NegLogIndepedentGaussians(tf.constant([0.0, 0.0]), tf.constant([1.0, 1.0]))\n",
    "q0 = tf.constant([[2.0, -10.0]])\n",
    "p0 = tf.constant([[0.0, 0.0]])\n",
    "leap_frog_per_unit = 40\n",
    "n_steps = 1024\n",
    "original_hamiltonian = HamiltonianSystem(U=U, K=K)\n",
    "\n",
    "hist_original = original_hamiltonian.symplectic_integrate(\n",
    "    q0, p0, 1 / leap_frog_per_unit, n_steps\n",
    ")\n",
    "hist_lhnn = lhnn.symplectic_integrate(q0, p0, 1 / leap_frog_per_unit, n_steps)\n",
    "\n",
    "fig, ax = plt.subplots(1, 2)\n",
    "ax[0].plot(hist_original[:, 0])\n",
    "ax[0].plot(hist_lhnn[:, 0])\n",
    "ax[1].plot(hist_original[:, 1])\n",
    "ax[1].plot(hist_lhnn[:, 1])\n",
    "plt.show()"
   ]
  },
  {
   "cell_type": "code",
   "execution_count": null,
   "metadata": {},
   "outputs": [],
   "source": [
    "q0 = tf.constant([[0.0, 0.0]])\n",
    "nuts = NoUTurnSampling(\n",
    "    num_samples=25000,\n",
    "    q0=q0,\n",
    "    dt=0.025,\n",
    "    lhnn=lhnn,\n",
    "    Hamiltonian=HamiltonianSystem(U=U, K=K),\n",
    "    Delta_lf=1000.0,\n",
    "    Delta_lhnn=10.0,\n",
    "    num_lf_steps=20,\n",
    ")\n",
    "nuts(print_every=2500)\n",
    "q_hist = tf.concat(nuts.q_hist, axis=0)\n",
    "tf.io.write_file(\"../exps/demo3_q_hist.txt\", tf.io.serialize_tensor(q_hist))\n",
    "# plt.hist(q_hist.numpy()[10000:, 0].flatten(), bins=30, color=\"blue\")\n",
    "# plt.show()"
   ]
  }
 ],
 "metadata": {
  "kernelspec": {
   "display_name": "Python 3",
   "language": "python",
   "name": "python3"
  },
  "language_info": {
   "codemirror_mode": {
    "name": "ipython",
    "version": 3
   },
   "file_extension": ".py",
   "mimetype": "text/x-python",
   "name": "python",
   "nbconvert_exporter": "python",
   "pygments_lexer": "ipython3",
   "version": "3.10.12"
  }
 },
 "nbformat": 4,
 "nbformat_minor": 2
}
