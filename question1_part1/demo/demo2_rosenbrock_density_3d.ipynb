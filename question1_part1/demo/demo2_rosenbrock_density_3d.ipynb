{
 "cells": [
  {
   "cell_type": "code",
   "execution_count": 1,
   "metadata": {},
   "outputs": [
    {
     "name": "stderr",
     "output_type": "stream",
     "text": [
      "2025-02-27 19:43:48.920544: E external/local_xla/xla/stream_executor/cuda/cuda_fft.cc:477] Unable to register cuFFT factory: Attempting to register factory for plugin cuFFT when one has already been registered\n",
      "WARNING: All log messages before absl::InitializeLog() is called are written to STDERR\n",
      "E0000 00:00:1740656629.007096    1137 cuda_dnn.cc:8310] Unable to register cuDNN factory: Attempting to register factory for plugin cuDNN when one has already been registered\n",
      "E0000 00:00:1740656629.032438    1137 cuda_blas.cc:1418] Unable to register cuBLAS factory: Attempting to register factory for plugin cuBLAS when one has already been registered\n",
      "2025-02-27 19:43:49.248587: I tensorflow/core/platform/cpu_feature_guard.cc:210] This TensorFlow binary is optimized to use available CPU instructions in performance-critical operations.\n",
      "To enable the following instructions: AVX2 FMA, in other operations, rebuild TensorFlow with the appropriate compiler flags.\n"
     ]
    },
    {
     "name": "stdout",
     "output_type": "stream",
     "text": [
      "2.18.0\n"
     ]
    }
   ],
   "source": [
    "import sys\n",
    "\n",
    "sys.path.append(\"../\")\n",
    "from hamilton_neural_network import (\n",
    "    TrainTestData,\n",
    "    LatentHamiltonianNeuralNetwork,\n",
    ")\n",
    "from hamilton_system import HamiltonianSystem\n",
    "from pdf_models import NegLogIndepedentGaussians, NegLogThreeDimRosenbrock\n",
    "import tensorflow as tf\n",
    "import matplotlib.pyplot as plt\n",
    "from no_u_turn.nuts import NoUTurnSampling\n",
    "\n",
    "tf.random.set_seed(0)"
   ]
  },
  {
   "cell_type": "code",
   "execution_count": 2,
   "metadata": {},
   "outputs": [
    {
     "name": "stderr",
     "output_type": "stream",
     "text": [
      "I0000 00:00:1740656632.118060    1137 gpu_device.cc:2022] Created device /job:localhost/replica:0/task:0/device:GPU:0 with 4084 MB memory:  -> device: 0, name: NVIDIA GeForce GTX 1660 SUPER, pci bus id: 0000:2b:00.0, compute capability: 7.5\n"
     ]
    }
   ],
   "source": [
    "U = NegLogThreeDimRosenbrock()\n",
    "K = NegLogIndepedentGaussians(\n",
    "    tf.constant([0.0, 0.0, 0.0]), tf.constant([1.0, 1.0, 1.0])\n",
    ")\n",
    "q0 = tf.constant([[0.0, 0.0, 0.0]])\n",
    "p0 = tf.random.normal(q0.shape)\n",
    "T = 100.0\n",
    "leap_frog_per_unit = 80\n",
    "num_samples = 40\n",
    "num_train = int(0.9 * num_samples * leap_frog_per_unit * T)"
   ]
  },
  {
   "cell_type": "code",
   "execution_count": null,
   "metadata": {},
   "outputs": [
    {
     "name": "stdout",
     "output_type": "stream",
     "text": [
      "Generating samples...\n"
     ]
    }
   ],
   "source": [
    "train_test_data = TrainTestData(num_samples, T, leap_frog_per_unit, q0, p0, U=U, K=K)\n",
    "samples = train_test_data()\n",
    "tf.io.write_file(\"../exps/demo2_train_test_data.txt\", tf.io.serialize_tensor(samples))"
   ]
  },
  {
   "cell_type": "code",
   "execution_count": null,
   "metadata": {},
   "outputs": [],
   "source": [
    "file = tf.io.read_file(\"../exps/demo2_train_test_data.txt\")\n",
    "train_test_data = tf.io.parse_tensor(file, out_type=tf.float32)\n",
    "train_test_data = tf.random.shuffle(train_test_data)\n",
    "train_data = train_test_data[:num_train, :]\n",
    "test_data = train_test_data[num_train:, :]\n",
    "lhnn = LatentHamiltonianNeuralNetwork(3, 64, 2)\n",
    "lhnn.build(input_shape=(1, 2))\n",
    "train_hist, test_hist = lhnn.train(\n",
    "    5000,\n",
    "    1000,\n",
    "    4e-5,\n",
    "    train_data,\n",
    "    test_data,\n",
    "    save_dir=\"../exps/demo2_lhnn\",\n",
    "    print_every=500,\n",
    ")"
   ]
  },
  {
   "cell_type": "code",
   "execution_count": null,
   "metadata": {},
   "outputs": [],
   "source": [
    "ax, fig = plt.subplots()\n",
    "fig.plot(train_hist, label=\"train\", color=\"red\")\n",
    "fig.plot(test_hist, label=\"test\", color=\"blue\")\n",
    "fig.legend()\n",
    "fig.set_yscale(\"log\")\n",
    "fig.set_xlabel(\"epochs (x500)\")\n",
    "fig.set_ylabel(\"loss\")\n",
    "plt.show()"
   ]
  },
  {
   "cell_type": "code",
   "execution_count": null,
   "metadata": {},
   "outputs": [],
   "source": [
    "q0 = tf.constant([[0.0, 0.0, 0.0]])\n",
    "nuts = NoUTurnSampling(\n",
    "    num_samples=125000,\n",
    "    q0=q0,\n",
    "    dt=0.05,\n",
    "    lhnn=lhnn,\n",
    "    Hamiltonian=HamiltonianSystem(U=U, K=K),\n",
    "    Delta_lf=1000.0,\n",
    "    Delta_lhnn=10.0,\n",
    "    num_lf_steps=20,\n",
    ")\n",
    "nuts(print_every=5000)\n",
    "q_hist = tf.concat(nuts.q_hist, axis=0)\n",
    "tf.io.write_file(\"../exps/demo2_q_hist.txt\", tf.io.serialize_tensor(q_hist))\n",
    "# plt.hist(q_hist.numpy()[5000:, 0].flatten(), bins=30, color=\"blue\")\n",
    "# plt.show()"
   ]
  }
 ],
 "metadata": {
  "kernelspec": {
   "display_name": "Python 3",
   "language": "python",
   "name": "python3"
  },
  "language_info": {
   "codemirror_mode": {
    "name": "ipython",
    "version": 3
   },
   "file_extension": ".py",
   "mimetype": "text/x-python",
   "name": "python",
   "nbconvert_exporter": "python",
   "pygments_lexer": "ipython3",
   "version": "3.10.12"
  }
 },
 "nbformat": 4,
 "nbformat_minor": 2
}
