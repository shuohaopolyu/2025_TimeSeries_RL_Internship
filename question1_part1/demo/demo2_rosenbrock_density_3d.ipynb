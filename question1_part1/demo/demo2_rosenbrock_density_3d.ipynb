{
 "cells": [
  {
   "cell_type": "code",
   "execution_count": 1,
   "metadata": {},
   "outputs": [
    {
     "name": "stdout",
     "output_type": "stream",
     "text": [
      "2.18.0\n"
     ]
    }
   ],
   "source": [
    "import sys\n",
    "\n",
    "sys.path.append(\"../\")\n",
    "from hamilton_neural_network import (\n",
    "    TrainTestData,\n",
    "    LatentHamiltonianNeuralNetwork,\n",
    ")\n",
    "from hamilton_system import HamiltonianSystem\n",
    "from pdf_models import NegLogIndepedentGaussians, NegLogThreeDimRosenbrock\n",
    "import tensorflow as tf\n",
    "import matplotlib.pyplot as plt\n",
    "from no_u_turn.nuts import NoUTurnSampling\n",
    "\n",
    "tf.random.set_seed(0)"
   ]
  },
  {
   "cell_type": "code",
   "execution_count": 2,
   "metadata": {},
   "outputs": [],
   "source": [
    "U = NegLogThreeDimRosenbrock()\n",
    "K = NegLogIndepedentGaussians(\n",
    "    tf.constant([0.0, 0.0, 0.0]), tf.constant([1.0, 1.0, 1.0])\n",
    ")\n",
    "q0 = tf.constant([[0.0, 0.0, 0.0]])\n",
    "p0 = tf.random.normal(q0.shape)\n",
    "T = 100.0\n",
    "leap_frog_per_unit = 40\n",
    "num_samples = 40\n",
    "num_train = int(0.9 * num_samples * leap_frog_per_unit * T)"
   ]
  },
  {
   "cell_type": "code",
   "execution_count": 3,
   "metadata": {},
   "outputs": [
    {
     "name": "stdout",
     "output_type": "stream",
     "text": [
      "Generating samples...\n",
      "Finished generating samples.\n"
     ]
    }
   ],
   "source": [
    "train_test_data = TrainTestData(num_samples, T, leap_frog_per_unit, q0, p0, U=U, K=K)\n",
    "samples = train_test_data()\n",
    "tf.io.write_file(\"../exps/demo2_train_test_data.txt\", tf.io.serialize_tensor(samples))"
   ]
  },
  {
   "cell_type": "code",
   "execution_count": 4,
   "metadata": {},
   "outputs": [
    {
     "name": "stdout",
     "output_type": "stream",
     "text": [
      "Training started...\n",
      "Epoch 0: Train loss 99.91273498535156, Test loss 98.72189331054688.\n",
      "Epoch 500: Train loss 0.07291653752326965, Test loss 0.07772736251354218.\n",
      "Epoch 1000: Train loss 0.022857585921883583, Test loss 0.023299993947148323.\n",
      "Epoch 1500: Train loss 0.013457905501127243, Test loss 0.013674571178853512.\n",
      "Epoch 2000: Train loss 0.009549959562718868, Test loss 0.009790700860321522.\n",
      "Epoch 2500: Train loss 0.007592242211103439, Test loss 0.00775939179584384.\n",
      "Epoch 3000: Train loss 0.0065465644001960754, Test loss 0.006749222055077553.\n",
      "Epoch 3500: Train loss 0.005729676689952612, Test loss 0.008882740512490273.\n",
      "Epoch 4000: Train loss 0.004459691233932972, Test loss 0.006533361971378326.\n",
      "Epoch 4500: Train loss 0.0049147289246320724, Test loss 0.007041740696877241.\n",
      "Training complete!\n"
     ]
    }
   ],
   "source": [
    "file = tf.io.read_file(\"../exps/demo2_train_test_data.txt\")\n",
    "train_test_data = tf.io.parse_tensor(file, out_type=tf.float32)\n",
    "train_test_data = tf.random.shuffle(train_test_data)\n",
    "train_data = train_test_data[:num_train, :]\n",
    "test_data = train_test_data[num_train:, :]\n",
    "lhnn = LatentHamiltonianNeuralNetwork(3, 64, 3)\n",
    "lhnn.build(input_shape=(1, 6))\n",
    "train_hist, test_hist = lhnn.train(\n",
    "    5000,\n",
    "    1000,\n",
    "    4e-5,\n",
    "    train_data,\n",
    "    test_data,\n",
    "    save_dir=\"../exps/demo2_lhnn.weights.h5\",\n",
    "    print_every=500,\n",
    ")"
   ]
  },
  {
   "cell_type": "code",
   "execution_count": 5,
   "metadata": {},
   "outputs": [
    {
     "data": {
      "image/png": "[encoded data removed]",
      "text/plain": [
       "<Figure size 640x480 with 1 Axes>"
      ]
     },
     "metadata": {},
     "output_type": "display_data"
    }
   ],
   "source": [
    "ax, fig = plt.subplots()\n",
    "fig.plot(train_hist, label=\"train\", color=\"red\")\n",
    "fig.plot(test_hist, label=\"test\", color=\"blue\")\n",
    "fig.legend()\n",
    "fig.set_yscale(\"log\")\n",
    "fig.set_xlabel(\"epochs (x500)\")\n",
    "fig.set_ylabel(\"loss\")\n",
    "plt.show()"
   ]
  },
  {
   "cell_type": "code",
   "execution_count": null,
   "metadata": {},
   "outputs": [
    {
     "name": "stdout",
     "output_type": "stream",
     "text": [
      "Sample 0 of 125000\n",
      "Warning: Maximum depth reached at sample 4019.\n",
      "Sample 5000 of 125000\n",
      "Sample 10000 of 125000\n",
      "Sample 15000 of 125000\n",
      "Sample 20000 of 125000\n"
     ]
    }
   ],
   "source": [
    "lhnn = LatentHamiltonianNeuralNetwork(3, 64, 3)\n",
    "lhnn.build(input_shape=(1, 6))\n",
    "lhnn.load_weights(\"../exps/demo2_lhnn.weights.h5\")\n",
    "q0 = tf.constant([[0.0, 0.0, 0.0]])\n",
    "nuts = NoUTurnSampling(\n",
    "    num_samples=125000,\n",
    "    q0=q0,\n",
    "    dt=0.05,\n",
    "    lhnn=lhnn,\n",
    "    Hamiltonian=HamiltonianSystem(U=U, K=K),\n",
    "    Delta_lf=1000.0,\n",
    "    Delta_lhnn=10.0,\n",
    "    num_lf_steps=20,\n",
    "    j_max=12,\n",
    ")\n",
    "nuts(print_every=5000)\n",
    "q_hist = tf.concat(nuts.q_hist, axis=0)\n",
    "tf.io.write_file(\"../exps/demo2_q_hist.txt\", tf.io.serialize_tensor(q_hist))\n",
    "# plt.hist(q_hist.numpy()[5000:, 0].flatten(), bins=30, color=\"blue\")\n",
    "# plt.show()"
   ]
  }
 ],
 "metadata": {
  "kernelspec": {
   "display_name": "cdbo",
   "language": "python",
   "name": "python3"
  },
  "language_info": {
   "codemirror_mode": {
    "name": "ipython",
    "version": 3
   },
   "file_extension": ".py",
   "mimetype": "text/x-python",
   "name": "python",
   "nbconvert_exporter": "python",
   "pygments_lexer": "ipython3",
   "version": "3.10.15"
  }
 },
 "nbformat": 4,
 "nbformat_minor": 2
}
