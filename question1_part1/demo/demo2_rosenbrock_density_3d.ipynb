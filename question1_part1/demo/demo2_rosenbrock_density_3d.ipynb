{
 "cells": [
  {
   "cell_type": "code",
   "execution_count": 1,
   "metadata": {},
   "outputs": [
    {
     "name": "stdout",
     "output_type": "stream",
     "text": [
      "WARNING:tensorflow:From c:\\Users\\shuo\\miniconda3\\envs\\dcbo\\lib\\site-packages\\keras\\src\\losses.py:2976: The name tf.losses.sparse_softmax_cross_entropy is deprecated. Please use tf.compat.v1.losses.sparse_softmax_cross_entropy instead.\n",
      "\n",
      "2.15.0\n"
     ]
    }
   ],
   "source": [
    "import sys\n",
    "\n",
    "sys.path.append(\"../\")\n",
    "from hamilton_neural_network import (\n",
    "    TrainTestData,\n",
    "    HamiltonianNeuralNetwork,\n",
    "    LatentHamiltonianNeuralNetwork,\n",
    ")\n",
    "from hamilton_system import HamiltonianSystem\n",
    "from pdf_models import NegLogIndepedentGaussians, NegLogThreeDimRosenbrock\n",
    "import tensorflow as tf\n",
    "import matplotlib.pyplot as plt\n",
    "from no_u_turn.nuts import NoUTurnSampling\n",
    "\n",
    "tf.random.set_seed(0)"
   ]
  },
  {
   "cell_type": "code",
   "execution_count": 2,
   "metadata": {},
   "outputs": [],
   "source": [
    "U = NegLogThreeDimRosenbrock()\n",
    "K = NegLogIndepedentGaussians(\n",
    "    tf.constant([0.0, 0.0, 0.0]), tf.constant([1.0, 1.0, 1.0])\n",
    ")\n",
    "q0 = tf.constant([[0.0, 0.0, 0.0]])\n",
    "p0 = tf.random.normal(q0.shape)\n",
    "T = 100.0\n",
    "leap_frog_per_unit = 80\n",
    "num_samples = 40\n",
    "num_train = int(0.9 * num_samples * leap_frog_per_unit * T)"
   ]
  },
  {
   "cell_type": "code",
   "execution_count": 3,
   "metadata": {},
   "outputs": [
    {
     "name": "stdout",
     "output_type": "stream",
     "text": [
      "Generating samples...\n",
      "Finished generating samples.\n"
     ]
    }
   ],
   "source": [
    "train_test_data = TrainTestData(\n",
    "    num_samples, T, leap_frog_per_unit, q0, p0, U=U, K=K\n",
    ")\n",
    "samples = train_test_data()\n",
    "tf.io.write_file(\"../exps/demo2_train_test_data.txt\", tf.io.serialize_tensor(samples))"
   ]
  },
  {
   "cell_type": "code",
   "execution_count": null,
   "metadata": {},
   "outputs": [
    {
     "name": "stdout",
     "output_type": "stream",
     "text": [
      "WARNING:tensorflow:From c:\\Users\\shuo\\miniconda3\\envs\\dcbo\\lib\\site-packages\\keras\\src\\backend.py:873: The name tf.get_default_graph is deprecated. Please use tf.compat.v1.get_default_graph instead.\n",
      "\n",
      "WARNING:tensorflow:From c:\\Users\\shuo\\miniconda3\\envs\\dcbo\\lib\\site-packages\\keras\\src\\engine\\base_layer_utils.py:189: The name tf.placeholder is deprecated. Please use tf.compat.v1.placeholder instead.\n",
      "\n",
      "Training started...\n",
      "Epoch 1000: Train loss 0.03684674948453903, Test loss 0.04638343304395676.\n",
      "Epoch 2000: Train loss 0.013606764376163483, Test loss 0.015473277308046818.\n",
      "Epoch 3000: Train loss 0.004412055015563965, Test loss 0.004277967382222414.\n",
      "Epoch 4000: Train loss 0.008113712072372437, Test loss 0.06397075206041336.\n",
      "Epoch 5000: Train loss 0.004450698848813772, Test loss 0.007437895052134991.\n"
     ]
    }
   ],
   "source": [
    "file = tf.io.read_file(\"../exps/demo2_train_test_data.txt\")\n",
    "train_test_data = tf.io.parse_tensor(file, out_type=tf.float32)\n",
    "train_test_data = tf.random.shuffle(train_test_data)\n",
    "train_data = train_test_data[:num_train, :]\n",
    "test_data = train_test_data[num_train:, :]\n",
    "hnn = HamiltonianNeuralNetwork(3, 64)\n",
    "hnn.build(input_shape=(1, 6))\n",
    "train_hist, test_hist = hnn.train(\n",
    "    epochs=10000,\n",
    "    batch_size=2000,\n",
    "    learning_rate=1e-4,\n",
    "    train_set=train_data,\n",
    "    test_set=test_data,\n",
    "    save_dir=\"../exps/demo2_hnn.weights.h5\",\n",
    "    print_every=1000,\n",
    ")"
   ]
  },
  {
   "cell_type": "code",
   "execution_count": null,
   "metadata": {},
   "outputs": [],
   "source": [
    "ax, fig = plt.subplots()\n",
    "fig.plot(train_hist, label=\"train\", color=\"red\")\n",
    "fig.plot(test_hist, label=\"test\", color=\"blue\")\n",
    "fig.legend()\n",
    "fig.set_yscale(\"log\")\n",
    "fig.set_xlabel(\"epochs (x100)\")\n",
    "fig.set_ylabel(\"loss\")\n",
    "plt.show()"
   ]
  },
  {
   "cell_type": "code",
   "execution_count": null,
   "metadata": {},
   "outputs": [],
   "source": [
    "hnn = HamiltonianNeuralNetwork(3, 64)\n",
    "hnn.build(input_shape=(1, 6))\n",
    "hnn.load_weights(\"../exps/demo2_hnn.weights.h5\")\n",
    "U = NegLogThreeDimRosenbrock()\n",
    "K = NegLogIndepedentGaussians(\n",
    "    tf.constant([0.0, 0.0, 0.0]), tf.constant([1.0, 1.0, 1.0])\n",
    ")\n",
    "q0 = tf.constant([[1.0, 2.0, 4.0]])\n",
    "p0 = tf.constant([[0.0, 0.0, 0.0]])\n",
    "T = 40.0\n",
    "leap_frog_per_unit = 40\n",
    "num_samples = 40\n",
    "n_steps = 256\n",
    "original_hamiltonian = HamiltonianSystem(U=U, K=K)\n",
    "\n",
    "hist_original = original_hamiltonian.symplectic_integrate(\n",
    "    q0, p0, 1 / leap_frog_per_unit, n_steps\n",
    ")\n",
    "hist_hnn = hnn.symplectic_integrate(q0, p0, 1 / leap_frog_per_unit, n_steps)\n",
    "\n",
    "fig, ax = plt.subplots(1, 3)\n",
    "ax[0].plot(hist_original[:, 0])\n",
    "ax[0].plot(hist_hnn[:, 0])\n",
    "ax[1].plot(hist_original[:, 1])\n",
    "ax[1].plot(hist_hnn[:, 1])\n",
    "ax[2].plot(hist_original[:, 2])\n",
    "ax[2].plot(hist_hnn[:, 2])\n",
    "plt.show()"
   ]
  },
  {
   "cell_type": "code",
   "execution_count": null,
   "metadata": {},
   "outputs": [],
   "source": [
    "q0 = tf.constant([[0.0, 2.0, 8.0]])\n",
    "nuts = NoUTurnSampling(num_samples=50000, q0=q0, dt=0.025, hnn=hnn)\n",
    "nuts()\n",
    "q_hist = tf.concat(nuts.q_hist, axis=0)\n",
    "plt.hist(q_hist.numpy()[5000:, 0].flatten(), bins=30, color=\"blue\")\n",
    "plt.show()"
   ]
  },
  {
   "cell_type": "code",
   "execution_count": null,
   "metadata": {},
   "outputs": [],
   "source": [
    "plt.scatter(q_hist.numpy()[1000:, 1].flatten(), q_hist.numpy()[1000:, 2].flatten())\n",
    "plt.show()"
   ]
  },
  {
   "cell_type": "code",
   "execution_count": null,
   "metadata": {},
   "outputs": [],
   "source": [
    "file = tf.io.read_file(\"../exps/demo2_train_test_data.txt\")\n",
    "train_test_data = tf.io.parse_tensor(file, out_type=tf.float32)\n",
    "train_data = train_test_data[:num_train, :]\n",
    "test_data = train_test_data[num_train:, :]\n",
    "lhnn = LatentHamiltonianNeuralNetwork(3, 64, 2)\n",
    "lhnn.build(input_shape=(1, 2))\n",
    "train_hist, test_hist = lhnn.train(10000, 1000, 4e-5, train_data, test_data)\n",
    "lhnn.save_weights(\"../exps/demo2_lhnn.weights.h5\")"
   ]
  },
  {
   "cell_type": "code",
   "execution_count": null,
   "metadata": {},
   "outputs": [],
   "source": [
    "ax, fig = plt.subplots()\n",
    "fig.plot(train_hist, label=\"train\", color=\"red\")\n",
    "fig.plot(test_hist, label=\"test\", color=\"blue\")\n",
    "fig.legend()\n",
    "fig.set_yscale(\"log\")\n",
    "fig.set_xlabel(\"epochs (x100)\")\n",
    "fig.set_ylabel(\"loss\")\n",
    "plt.show()"
   ]
  },
  {
   "cell_type": "code",
   "execution_count": null,
   "metadata": {},
   "outputs": [],
   "source": [
    "q0 = tf.constant([[0.0, 0.0, 0.0]])\n",
    "nuts = NoUTurnSampling(num_samples=500, q0=q0, dt=0.05, lhnn=lhnn)\n",
    "nuts()\n",
    "q_hist = tf.concat(nuts.q_hist, axis=0)\n",
    "plt.hist(q_hist.numpy()[1000:, 0].flatten(), bins=30, color=\"blue\")\n",
    "plt.show()"
   ]
  }
 ],
 "metadata": {
  "kernelspec": {
   "display_name": "dcbo",
   "language": "python",
   "name": "python3"
  },
  "language_info": {
   "codemirror_mode": {
    "name": "ipython",
    "version": 3
   },
   "file_extension": ".py",
   "mimetype": "text/x-python",
   "name": "python",
   "nbconvert_exporter": "python",
   "pygments_lexer": "ipython3",
   "version": "3.9.21"
  }
 },
 "nbformat": 4,
 "nbformat_minor": 2
}
