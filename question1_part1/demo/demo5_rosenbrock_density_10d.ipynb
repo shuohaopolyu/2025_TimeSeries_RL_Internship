{
 "cells": [
  {
   "cell_type": "code",
   "execution_count": 1,
   "metadata": {},
   "outputs": [
    {
     "name": "stdout",
     "output_type": "stream",
     "text": [
      "2.18.0\n"
     ]
    }
   ],
   "source": [
    "import sys\n",
    "\n",
    "sys.path.append(\"../\")\n",
    "from hamilton_neural_network import (\n",
    "    TrainTestData,\n",
    "    LatentHamiltonianNeuralNetwork,\n",
    ")\n",
    "from hamilton_system import HamiltonianSystem\n",
    "from pdf_models import NegLogIndepedentGaussians,NegLogTenDimRosenbrock\n",
    "import tensorflow as tf\n",
    "import matplotlib.pyplot as plt\n",
    "from no_u_turn.nuts import NoUTurnSampling\n",
    "\n",
    "tf.random.set_seed(0)"
   ]
  },
  {
   "cell_type": "code",
   "execution_count": 2,
   "metadata": {},
   "outputs": [],
   "source": [
    "U = NegLogTenDimRosenbrock()\n",
    "K = NegLogIndepedentGaussians(\n",
    "    tf.constant([0.0] * 10), tf.constant([1.0] * 10)\n",
    ")\n",
    "q0 = tf.constant([[0.0] * 10])\n",
    "p0 = tf.random.normal(q0.shape)\n",
    "T = 120.0\n",
    "leap_frog_per_unit = 40\n",
    "num_samples = 40\n",
    "num_train = int(0.9 * num_samples * leap_frog_per_unit * T)"
   ]
  },
  {
   "cell_type": "code",
   "execution_count": 3,
   "metadata": {},
   "outputs": [
    {
     "name": "stdout",
     "output_type": "stream",
     "text": [
      "Generating samples...\n",
      "Finished generating samples.\n"
     ]
    }
   ],
   "source": [
    "train_test_data = TrainTestData(\n",
    "    num_samples, T, leap_frog_per_unit, q0, p0, U=U, K=K\n",
    ")\n",
    "samples = train_test_data()\n",
    "tf.io.write_file(\"../exps/demo5_train_test_data.txt\", tf.io.serialize_tensor(samples))"
   ]
  },
  {
   "cell_type": "code",
   "execution_count": null,
   "metadata": {},
   "outputs": [
    {
     "name": "stdout",
     "output_type": "stream",
     "text": [
      "(172800, 40) (19240, 40)\n",
      "Training started...\n",
      "Epoch 0: Train loss 15.3114013671875, Test loss 15.28851318359375.\n",
      "Epoch 200: Train loss 0.7364346981048584, Test loss 0.7811428308486938.\n",
      "Epoch 400: Train loss 0.30300626158714294, Test loss 0.3424561619758606.\n",
      "Epoch 600: Train loss 0.16964831948280334, Test loss 0.20736584067344666.\n",
      "Epoch 800: Train loss 0.13913118839263916, Test loss 0.18842190504074097.\n",
      "Epoch 1000: Train loss 0.11209020763635635, Test loss 0.17110970616340637.\n"
     ]
    }
   ],
   "source": [
    "file = tf.io.read_file(\"../exps/demo5_train_test_data.txt\")\n",
    "train_test_data = tf.io.parse_tensor(file, out_type=tf.float32)\n",
    "train_test_data = tf.random.shuffle(train_test_data)\n",
    "train_data = train_test_data[:num_train, :]\n",
    "test_data = train_test_data[num_train:, :]\n",
    "print(train_data.shape, test_data.shape)\n",
    "lhnn = LatentHamiltonianNeuralNetwork(3, 100, 10)\n",
    "lhnn.build(input_shape=(1, 20))\n",
    "train_hist, test_hist = lhnn.train(1000, 1000, 5e-5, train_data, test_data, save_dir=\"../exps/demo5_lhnn.weights.h5\", print_every=200)"
   ]
  },
  {
   "cell_type": "code",
   "execution_count": null,
   "metadata": {},
   "outputs": [],
   "source": [
    "lhnn = LatentHamiltonianNeuralNetwork(3, 100, 3)\n",
    "lhnn.build(input_shape=(1, 6))\n",
    "lhnn.load_weights(\"../exps/demo5_lhnn.weights.h5\")\n",
    "q0 = tf.constant([[0.0] * 10])\n",
    "nuts = NoUTurnSampling(\n",
    "    num_samples=125000,\n",
    "    q0=q0,\n",
    "    dt=0.025,\n",
    "    lhnn=lhnn,\n",
    "    Hamiltonian=HamiltonianSystem(U=U, K=K),\n",
    "    Delta_lf=100.0,\n",
    "    Delta_lhnn=10.0,\n",
    "    num_lf_steps=20,\n",
    "    j_max=12,\n",
    ")\n",
    "nuts(print_every=5000)\n",
    "q_hist = tf.concat(nuts.q_hist, axis=0)\n",
    "tf.io.write_file(\"../exps/demo5_q_hist.txt\", tf.io.serialize_tensor(q_hist))"
   ]
  }
 ],
 "metadata": {
  "kernelspec": {
   "display_name": "cdbo",
   "language": "python",
   "name": "python3"
  },
  "language_info": {
   "codemirror_mode": {
    "name": "ipython",
    "version": 3
   },
   "file_extension": ".py",
   "mimetype": "text/x-python",
   "name": "python",
   "nbconvert_exporter": "python",
   "pygments_lexer": "ipython3",
   "version": "3.10.15"
  }
 },
 "nbformat": 4,
 "nbformat_minor": 2
}
