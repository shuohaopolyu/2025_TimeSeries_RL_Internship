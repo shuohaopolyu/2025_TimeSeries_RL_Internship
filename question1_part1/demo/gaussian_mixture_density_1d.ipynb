{
 "cells": [
  {
   "cell_type": "markdown",
   "metadata": {},
   "source": [
    "In this demonstration, we consider the following 1-D Gaussian mixture density function:\n",
    "$$\n",
    "f(x) \\propto 0.5 \\exp \\left( \\frac{(q-1)^2}{2 \\times 0.35^2} \\right) + 0.5 \\exp \\left( \\frac{(q+1)^2}{2 \\times 0.35^2}\\right),\n",
    "$$\n",
    "where the right hand side is considered as the function of exponentialized negative potential energy $\\exp (-U(q))$. The kinetic energy is selected as "
   ]
  },
  {
   "cell_type": "code",
   "execution_count": null,
   "metadata": {},
   "outputs": [],
   "source": [
    "import sys\n",
    "sys.path.append('../')\n",
    "from hamilton_neural_network import (\n",
    "    TrainTestData,\n",
    "    HamiltonianNeuralNetwork,\n",
    "    LatentHamiltonianNeuralNetwork,\n",
    ")\n",
    "from hamilton_system import HamiltonianSystem\n",
    "from pdf_models import IndepedentGaussians, OneDimGaussianMixtureDensity\n",
    "import tensorflow as tf\n",
    "import matplotlib.pyplot as plt"
   ]
  },
  {
   "cell_type": "code",
   "execution_count": null,
   "metadata": {},
   "outputs": [
    {
     "name": "stdout",
     "output_type": "stream",
     "text": [
      "Generating samples...\n",
      "Finished generating samples.\n"
     ]
    }
   ],
   "source": [
    "expU = OneDimGaussianMixtureDensity()\n",
    "expK = IndepedentGaussians(tf.constant([0.0]), tf.constant([1.0]))\n",
    "q0 = tf.constant([0.0])\n",
    "p0 = tf.constant([1.0])\n",
    "T = 20.0\n",
    "leap_frog_per_unit = 20\n",
    "num_samples = 50\n",
    "num_train = 40\n",
    "num_test = num_samples - num_train\n",
    "train_test_data = TrainTestData(\n",
    "    num_samples, expU, expK, T, leap_frog_per_unit, q0, p0\n",
    ")\n",
    "samples = train_test_data()\n",
    "# save the samples\n",
    "tf.io.write_file(\"../exps/train_test_data.txt\", tf.io.serialize_tensor(samples))\n"
   ]
  },
  {
   "cell_type": "code",
   "execution_count": null,
   "metadata": {},
   "outputs": [
    {
     "name": "stdout",
     "output_type": "stream",
     "text": [
      "Training started...\n",
      "Epoch 100: Train loss 405.215087890625, Test loss 34.60761642456055.\n",
      "Epoch 200: Train loss 325.3718566894531, Test loss 28.122821807861328.\n",
      "Epoch 300: Train loss 197.94833374023438, Test loss 9.320622444152832.\n",
      "Epoch 400: Train loss 86.83357238769531, Test loss 2.849912166595459.\n",
      "Epoch 500: Train loss 39.54317855834961, Test loss 1.837003231048584.\n",
      "Epoch 600: Train loss 17.737625122070312, Test loss 1.2055127620697021.\n",
      "Epoch 700: Train loss 9.637903213500977, Test loss 0.6351432204246521.\n",
      "Epoch 800: Train loss 6.933128356933594, Test loss 0.3498871922492981.\n",
      "Epoch 900: Train loss 5.23668909072876, Test loss 0.30965542793273926.\n",
      "Epoch 1000: Train loss 3.7481584548950195, Test loss 0.32665133476257324.\n",
      "Epoch 1100: Train loss 2.726630926132202, Test loss 0.31084710359573364.\n",
      "Epoch 1200: Train loss 2.119729995727539, Test loss 0.264446884393692.\n",
      "Epoch 1300: Train loss 1.70864999294281, Test loss 0.21757051348686218.\n",
      "Epoch 1400: Train loss 1.3983006477355957, Test loss 0.1790367215871811.\n",
      "Epoch 1500: Train loss 1.1527996063232422, Test loss 0.15123997628688812.\n",
      "Epoch 1600: Train loss 0.9545828700065613, Test loss 0.13287098705768585.\n",
      "Epoch 1700: Train loss 0.7905125617980957, Test loss 0.1201392412185669.\n",
      "Epoch 1800: Train loss 0.6513947248458862, Test loss 0.10987024754285812.\n",
      "Epoch 1900: Train loss 0.5331939458847046, Test loss 0.10002348572015762.\n",
      "Epoch 2000: Train loss 0.43410661816596985, Test loss 0.08929573744535446.\n",
      "Epoch 2100: Train loss 0.35180574655532837, Test loss 0.0774964839220047.\n",
      "Epoch 2200: Train loss 0.2829471826553345, Test loss 0.06534779071807861.\n",
      "Epoch 2300: Train loss 0.22483378648757935, Test loss 0.05400028079748154.\n",
      "Epoch 2400: Train loss 0.17634353041648865, Test loss 0.04450397565960884.\n",
      "Epoch 2500: Train loss 0.13712406158447266, Test loss 0.03739394247531891.\n",
      "Epoch 2600: Train loss 0.10657082498073578, Test loss 0.03258068487048149.\n",
      "Epoch 2700: Train loss 0.0834907814860344, Test loss 0.02950611338019371.\n",
      "Epoch 2800: Train loss 0.06634378433227539, Test loss 0.0274445079267025.\n",
      "Epoch 2900: Train loss 0.05361950397491455, Test loss 0.025808341801166534.\n",
      "Epoch 3000: Train loss 0.04408868029713631, Test loss 0.024270670488476753.\n",
      "Epoch 3100: Train loss 0.03685063496232033, Test loss 0.022724827751517296.\n",
      "Epoch 3200: Train loss 0.03128455579280853, Test loss 0.021188894286751747.\n",
      "Epoch 3300: Train loss 0.026963448151946068, Test loss 0.019722336903214455.\n",
      "Epoch 3400: Train loss 0.02358369529247284, Test loss 0.01838029734790325.\n",
      "Epoch 3500: Train loss 0.020918570458889008, Test loss 0.0171915702521801.\n",
      "Epoch 3600: Train loss 0.018793532624840736, Test loss 0.016164178028702736.\n",
      "Epoch 3700: Train loss 0.017072467133402824, Test loss 0.015287116169929504.\n",
      "Epoch 3800: Train loss 0.015650682151317596, Test loss 0.014541619457304478.\n",
      "Epoch 3900: Train loss 0.014450566843152046, Test loss 0.013905148953199387.\n",
      "Epoch 4000: Train loss 0.01341343391686678, Test loss 0.013356681913137436.\n",
      "Epoch 4100: Train loss 0.012497873976826668, Test loss 0.012876264750957489.\n",
      "Epoch 4200: Train loss 0.01167445257306099, Test loss 0.012447450309991837.\n",
      "Epoch 4300: Train loss 0.010924174450337887, Test loss 0.012055455707013607.\n",
      "Epoch 4400: Train loss 0.010232544504106045, Test loss 0.011689056642353535.\n",
      "Epoch 4500: Train loss 0.009590847417712212, Test loss 0.011338295415043831.\n",
      "Epoch 4600: Train loss 0.008992471732199192, Test loss 0.010996474884450436.\n",
      "Epoch 4700: Train loss 0.008432782255113125, Test loss 0.01065734215080738.\n",
      "Epoch 4800: Train loss 0.007908480241894722, Test loss 0.010317285545170307.\n",
      "Epoch 4900: Train loss 0.007416885811835527, Test loss 0.00997419748455286.\n",
      "Epoch 5000: Train loss 0.006955686956644058, Test loss 0.009626658633351326.\n",
      "Epoch 5100: Train loss 0.0065228622406721115, Test loss 0.00927299540489912.\n",
      "Epoch 5200: Train loss 0.006116815377026796, Test loss 0.008914100006222725.\n",
      "Epoch 5300: Train loss 0.005735895596444607, Test loss 0.008550507947802544.\n",
      "Epoch 5400: Train loss 0.005378551781177521, Test loss 0.008183884434401989.\n",
      "Epoch 5500: Train loss 0.00504380464553833, Test loss 0.007814520038664341.\n",
      "Epoch 5600: Train loss 0.004729652777314186, Test loss 0.007444455288350582.\n",
      "Epoch 5700: Train loss 0.004435399081557989, Test loss 0.007075349800288677.\n",
      "Epoch 5800: Train loss 0.0041598668321967125, Test loss 0.0067087034694850445.\n",
      "Epoch 5900: Train loss 0.0039016760420054197, Test loss 0.006345818750560284.\n",
      "Epoch 6000: Train loss 0.0036598672159016132, Test loss 0.00598911102861166.\n",
      "Epoch 6100: Train loss 0.0034335062373429537, Test loss 0.00563955819234252.\n",
      "Epoch 6200: Train loss 0.003221705788746476, Test loss 0.005299182143062353.\n",
      "Epoch 6300: Train loss 0.0030235620215535164, Test loss 0.0049688019789755344.\n",
      "Epoch 6400: Train loss 0.0028382923919707537, Test loss 0.004648895002901554.\n",
      "Epoch 6500: Train loss 0.002665219595655799, Test loss 0.0043427892960608006.\n",
      "Epoch 6600: Train loss 0.0025036754086613655, Test loss 0.004051571246236563.\n",
      "Epoch 6700: Train loss 0.002354087308049202, Test loss 0.003772396594285965.\n",
      "Epoch 6800: Train loss 0.002255222760140896, Test loss 0.003422061214223504.\n",
      "Epoch 6900: Train loss 0.002088116714730859, Test loss 0.003261914011090994.\n",
      "Epoch 7000: Train loss 0.0019754597451537848, Test loss 0.003051432315260172.\n",
      "Epoch 7100: Train loss 0.0018623669166117907, Test loss 0.0028129771817475557.\n",
      "Epoch 7200: Train loss 0.0017629519570618868, Test loss 0.0026235419791191816.\n",
      "Epoch 7300: Train loss 0.002752195345237851, Test loss 0.0023263362236320972.\n",
      "Epoch 7400: Train loss 0.0015872744843363762, Test loss 0.0022683017887175083.\n",
      "Epoch 7500: Train loss 0.0024331205058842897, Test loss 0.002055892487987876.\n",
      "Epoch 7600: Train loss 0.001438535749912262, Test loss 0.0019722366705536842.\n",
      "Epoch 7700: Train loss 0.0013724288437515497, Test loss 0.0018434675876051188.\n",
      "Epoch 7800: Train loss 0.001312368200160563, Test loss 0.0017213437240570784.\n",
      "Epoch 7900: Train loss 0.0012564947828650475, Test loss 0.0016137745697051287.\n",
      "Epoch 8000: Train loss 0.0012158232275396585, Test loss 0.0014924973947927356.\n",
      "Epoch 8100: Train loss 0.0011557277757674456, Test loss 0.0014213401591405272.\n",
      "Epoch 8200: Train loss 0.003051395993679762, Test loss 0.0019180745584890246.\n",
      "Epoch 8300: Train loss 0.0010683562140911818, Test loss 0.0012615694431588054.\n",
      "Epoch 8400: Train loss 0.0010308101773262024, Test loss 0.0011856912169605494.\n",
      "Epoch 8500: Train loss 0.0009920629672706127, Test loss 0.0011278096353635192.\n",
      "Epoch 8600: Train loss 0.001017519272863865, Test loss 0.001080597983673215.\n",
      "Epoch 8700: Train loss 0.0015161633491516113, Test loss 0.0010874423896893859.\n",
      "Epoch 8800: Train loss 0.002160613425076008, Test loss 0.0011488822055980563.\n",
      "Epoch 8900: Train loss 0.000865008682012558, Test loss 0.000914498814381659.\n",
      "Epoch 9000: Train loss 0.0008394835167564452, Test loss 0.0008766321116127074.\n",
      "Epoch 9100: Train loss 0.0009130501421168447, Test loss 0.0008805836550891399.\n",
      "Epoch 9200: Train loss 0.0007866672240197659, Test loss 0.0007981439121067524.\n",
      "Epoch 9300: Train loss 0.000757556117605418, Test loss 0.0007642623386345804.\n",
      "Epoch 9400: Train loss 0.0007461531786248088, Test loss 0.0007334980182349682.\n",
      "Epoch 9500: Train loss 0.0007127709686756134, Test loss 0.0007042980287224054.\n",
      "Epoch 9600: Train loss 0.0015977149596437812, Test loss 0.0007858510361984372.\n",
      "Epoch 9700: Train loss 0.0006703364779241383, Test loss 0.0006520085735246539.\n",
      "Epoch 9800: Train loss 0.0006541330367326736, Test loss 0.0006299952510744333.\n",
      "Epoch 9900: Train loss 0.0006355800433084369, Test loss 0.0006077211583033204.\n",
      "Epoch 10000: Train loss 0.0006140894256532192, Test loss 0.0005852241883985698.\n",
      "Training complete!\n"
     ]
    }
   ],
   "source": [
    "file = tf.io.read_file(\"../exps/train_test_data.txt\")\n",
    "train_test_data = tf.io.parse_tensor(file, out_type=tf.float32)\n",
    "num_train = 40\n",
    "train_data = train_test_data[:num_train, :]\n",
    "test_data = train_test_data[num_train:, :]\n",
    "hnn = HamiltonianNeuralNetwork(2, 16, train_data, test_data)\n",
    "hnn.train(10000, 40)"
   ]
  },
  {
   "cell_type": "code",
   "execution_count": null,
   "metadata": {},
   "outputs": [],
   "source": []
  }
 ],
 "metadata": {
  "kernelspec": {
   "display_name": "dcbo",
   "language": "python",
   "name": "python3"
  },
  "language_info": {
   "codemirror_mode": {
    "name": "ipython",
    "version": 3
   },
   "file_extension": ".py",
   "mimetype": "text/x-python",
   "name": "python",
   "nbconvert_exporter": "python",
   "pygments_lexer": "ipython3",
   "version": "3.10.16"
  }
 },
 "nbformat": 4,
 "nbformat_minor": 2
}
