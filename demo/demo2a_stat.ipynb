{
 "cells": [
  {
   "cell_type": "code",
   "execution_count": 1,
   "metadata": {},
   "outputs": [
    {
     "name": "stdout",
     "output_type": "stream",
     "text": [
      "WARNING:tensorflow:From c:\\Users\\User\\anaconda3\\envs\\cdbo\\lib\\site-packages\\tf_keras\\src\\losses.py:2976: The name tf.losses.sparse_softmax_cross_entropy is deprecated. Please use tf.compat.v1.losses.sparse_softmax_cross_entropy instead.\n",
      "\n",
      "WARNING:tensorflow:From c:\\Users\\User\\anaconda3\\envs\\cdbo\\lib\\site-packages\\tensorflow_probability\\python\\internal\\backend\\numpy\\_utils.py:48: The name tf.logging.TaskLevelStatusMessage is deprecated. Please use tf.compat.v1.logging.TaskLevelStatusMessage instead.\n",
      "\n",
      "WARNING:tensorflow:From c:\\Users\\User\\anaconda3\\envs\\cdbo\\lib\\site-packages\\tensorflow_probability\\python\\internal\\backend\\numpy\\_utils.py:48: The name tf.control_flow_v2_enabled is deprecated. Please use tf.compat.v1.control_flow_v2_enabled instead.\n",
      "\n"
     ]
    }
   ],
   "source": [
    "import sys\n",
    "sys.path.append(\"..\")\n",
    "\n",
    "from methods.dcbo import DynCausalBayesOpt\n",
    "from utils.sequential_sampling import draw_samples_from_sem_dev\n",
    "from causal_graph.example_dyn_graphs import three_step_stat\n",
    "from sem.stationary import StationaryModel_dev\n",
    "from collections import OrderedDict\n",
    "from utils.costs import equal_cost\n",
    "import matplotlib.pyplot as plt\n",
    "import tensorflow as tf\n",
    "import tensorflow_probability as tfp\n",
    "from collections import OrderedDict\n",
    "tfd = tfp.distributions\n",
    "tf.random.set_seed(0)"
   ]
  },
  {
   "cell_type": "code",
   "execution_count": 2,
   "metadata": {},
   "outputs": [],
   "source": [
    "sem_model = StationaryModel_dev()\n",
    "num_samples = 80\n",
    "temporal_index = 2\n",
    "full_samples = OrderedDict([(key, []) for key in sem_model.static().keys()])\n",
    "epsilon = OrderedDict(\n",
    "    [\n",
    "        (key, tfd.Normal(0.0, 1.0).sample((num_samples, temporal_index+1)))\n",
    "        for key in full_samples.keys()\n",
    "    ]\n",
    ")\n",
    "D_obs = draw_samples_from_sem_dev(sem_model, num_samples, temporal_index, epsilon=epsilon)"
   ]
  },
  {
   "cell_type": "code",
   "execution_count": 3,
   "metadata": {},
   "outputs": [],
   "source": [
    "dyn_graph = three_step_stat()\n",
    "\n",
    "intervention_ini = {\n",
    "    \"X\": [-0.6],\n",
    "    \"Z\": [None],\n",
    "    \"Y\": [None],\n",
    "}\n",
    "D_intervene_ini_x = draw_samples_from_sem_dev(\n",
    "    sem_model, 1, 0, intervention=intervention_ini, epsilon=0.0\n",
    ")\n",
    "\n",
    "intervention_ini = {\n",
    "    \"X\": [None],\n",
    "    \"Z\": [7.5],\n",
    "    \"Y\": [None],\n",
    "}\n",
    "D_intervene_ini_z = draw_samples_from_sem_dev(\n",
    "    sem_model, 1, 0, intervention=intervention_ini, epsilon=0.0\n",
    ")\n",
    "D_intervene_ini = OrderedDict(\n",
    "    [((\"X\",), D_intervene_ini_x), ((\"Z\",), D_intervene_ini_z)]\n",
    ")\n",
    "intervention_domain = OrderedDict([(\"X\", [-3.0, 5.0]), (\"Z\", [-5.0, 20.0])])\n",
    "dcbo = DynCausalBayesOpt(\n",
    "    dyn_graph=dyn_graph,\n",
    "    sem=sem_model,\n",
    "    D_obs=D_obs,\n",
    "    D_intervene_ini=D_intervene_ini,\n",
    "    intervention_domain=intervention_domain,\n",
    "    num_trials=10,\n",
    "    task=\"min\",\n",
    "    cost_fcn=equal_cost,\n",
    "    num_anchor_points= 100,\n",
    "    num_monte_carlo= 100,\n",
    "    ini_global_extreme_abs=10.0,\n",
    "    jitter= 1e-6,\n",
    "    learning_rate=1e-5,\n",
    "    intervene_noise_factor=1e-4,\n",
    "    observation_noise_factor=1e-2,\n",
    "    max_training_step=30000,\n",
    "    debug_mode=False,\n",
    ")"
   ]
  },
  {
   "cell_type": "code",
   "execution_count": 4,
   "metadata": {},
   "outputs": [
    {
     "name": "stdout",
     "output_type": "stream",
     "text": [
      "Dynamic causal Bayesian optimization at time step 0 is started.\n",
      "Temporal index: 0 . Trial: 0\n",
      "Intervened exploration set: ('Z',) . Intervention point: [[-2.681889]] . Target variable value: -2.0396848\n",
      "Optimal value: -2.0396848\n",
      "Temporal index: 0 . Trial: 1\n",
      "Intervened exploration set: ('X',) . Intervention point: [[4.6312084]] . Target variable value: 0.00043958426\n",
      "Optimal value: -2.0396848\n",
      "Temporal index: 0 . Trial: 2\n",
      "Intervened exploration set: ('X',) . Intervention point: [[-2.2077522]] . Target variable value: -1.5807936\n",
      "Optimal value: -2.0396848\n",
      "Temporal index: 0 . Trial: 3\n",
      "Intervened exploration set: ('Z',) . Intervention point: [[8.847605]] . Target variable value: -1.4805138\n",
      "Optimal value: -2.0396848\n",
      "Temporal index: 0 . Trial: 4\n",
      "Intervened exploration set: ('Z',) . Intervention point: [[4.2739553]] . Target variable value: -1.2321142\n",
      "Optimal value: -2.0396848\n",
      "Temporal index: 0 . Trial: 5\n",
      "Intervened exploration set: ('Z',) . Intervention point: [[2.7933402]] . Target variable value: -1.8096182\n",
      "Optimal value: -2.0396848\n",
      "Temporal index: 0 . Trial: 6\n",
      "Intervened exploration set: ('Z',) . Intervention point: [[11.967794]] . Target variable value: 0.27644265\n",
      "Optimal value: -2.0396848\n",
      "Temporal index: 0 . Trial: 7\n",
      "Intervened exploration set: ('Z',) . Intervention point: [[-3.026958]] . Target variable value: -2.156838\n",
      "Optimal value: -2.156838\n",
      "Temporal index: 0 . Trial: 8\n",
      "Intervened exploration set: ('X',) . Intervention point: [[3.3174543]] . Target variable value: 0.0011538267\n",
      "Optimal value: -2.156838\n",
      "Temporal index: 0 . Trial: 9\n",
      "Intervened exploration set: ('X',) . Intervention point: [[4.7785006]] . Target variable value: 0.0003849864\n",
      "Optimal value: -2.156838\n",
      "Dynamic causal Bayesian optimization at time step 0 is completed.\n",
      "Dynamic causal Bayesian optimization at time step 1 is started.\n",
      "Temporal index: 1 . Trial: 0\n",
      "Intervened exploration set: ('Z',) . Intervention point: [[14.352249]] . Target variable value: -2.8581815\n",
      "Optimal value: -2.8581815\n",
      "Temporal index: 1 . Trial: 1\n",
      "Intervened exploration set: ('X',) . Intervention point: [[-1.7253542]] . Target variable value: -3.8858852\n",
      "Optimal value: -3.8858852\n",
      "Temporal index: 1 . Trial: 2\n",
      "Intervened exploration set: ('X',) . Intervention point: [[-2.9377031]] . Target variable value: -3.6002095\n",
      "Optimal value: -3.8858852\n",
      "Temporal index: 1 . Trial: 3\n",
      "Intervened exploration set: ('Z',) . Intervention point: [[-1.735841]] . Target variable value: -3.4118042\n",
      "Optimal value: -3.8858852\n",
      "Temporal index: 1 . Trial: 4\n",
      "Intervened exploration set: ('X',) . Intervention point: [[-2.9148703]] . Target variable value: -3.5780716\n",
      "Optimal value: -3.8858852\n",
      "Temporal index: 1 . Trial: 5\n",
      "Intervened exploration set: ('X',) . Intervention point: [[-0.7355385]] . Target variable value: -2.6154752\n",
      "Optimal value: -3.8858852\n",
      "Temporal index: 1 . Trial: 6\n",
      "Intervened exploration set: ('X',) . Intervention point: [[-1.4782772]] . Target variable value: -2.8803945\n",
      "Optimal value: -3.8858852\n",
      "Temporal index: 1 . Trial: 7\n",
      "Intervened exploration set: ('X',) . Intervention point: [[0.24707508]] . Target variable value: -3.9006388\n",
      "Optimal value: -3.9006388\n",
      "Temporal index: 1 . Trial: 8\n",
      "Intervened exploration set: ('X',) . Intervention point: [[1.4382496]] . Target variable value: -4.2452073\n",
      "Optimal value: -4.2452073\n",
      "Temporal index: 1 . Trial: 9\n",
      "Intervened exploration set: ('X',) . Intervention point: [[2.2329369]] . Target variable value: -4.2895117\n",
      "Optimal value: -4.2895117\n",
      "Dynamic causal Bayesian optimization at time step 1 is completed.\n",
      "Dynamic causal Bayesian optimization at time step 2 is started.\n",
      "Temporal index: 2 . Trial: 0\n",
      "Intervened exploration set: ('Z',) . Intervention point: [[9.716491]] . Target variable value: -5.8624544\n",
      "Optimal value: -5.8624544\n",
      "Temporal index: 2 . Trial: 1\n",
      "Intervened exploration set: ('Z',) . Intervention point: [[12.55895]] . Target variable value: -3.8232253\n",
      "Optimal value: -5.8624544\n",
      "Temporal index: 2 . Trial: 2\n",
      "Intervened exploration set: ('Z',) . Intervention point: [[-2.4192767]] . Target variable value: -6.168372\n",
      "Optimal value: -6.168372\n",
      "Temporal index: 2 . Trial: 3\n",
      "Intervened exploration set: ('X',) . Intervention point: [[-2.6628551]] . Target variable value: -4.4450984\n",
      "Optimal value: -6.168372\n",
      "Temporal index: 2 . Trial: 4\n",
      "Intervened exploration set: ('X',) . Intervention point: [[-1.8945389]] . Target variable value: -5.951353\n",
      "Optimal value: -6.168372\n",
      "Temporal index: 2 . Trial: 5\n",
      "Intervened exploration set: ('X',) . Intervention point: [[1.4123249]] . Target variable value: -6.326317\n",
      "Optimal value: -6.326317\n",
      "Temporal index: 2 . Trial: 6\n",
      "Intervened exploration set: ('X',) . Intervention point: [[-1.2998285]] . Target variable value: -4.520335\n",
      "Optimal value: -6.326317\n",
      "Temporal index: 2 . Trial: 7\n",
      "Intervened exploration set: ('X',) . Intervention point: [[1.7218847]] . Target variable value: -6.357234\n",
      "Optimal value: -6.357234\n",
      "Temporal index: 2 . Trial: 8\n",
      "Intervened exploration set: ('X',) . Intervention point: [[-1.8752584]] . Target variable value: -6.0202003\n",
      "Optimal value: -6.357234\n",
      "Temporal index: 2 . Trial: 9\n",
      "Intervened exploration set: ('X',) . Intervention point: [[0.05615616]] . Target variable value: -5.785959\n",
      "Optimal value: -6.357234\n",
      "Dynamic causal Bayesian optimization at time step 2 is completed.\n"
     ]
    }
   ],
   "source": [
    "opt_history = dcbo.run()"
   ]
  },
  {
   "cell_type": "code",
   "execution_count": 5,
   "metadata": {},
   "outputs": [
    {
     "data": {
      "image/png": "[encoded data removed]",
      "text/plain": [
       "<Figure size 1500x300 with 3 Axes>"
      ]
     },
     "metadata": {},
     "output_type": "display_data"
    }
   ],
   "source": [
    "fig, axs = plt.subplots(1, 3, figsize=(15, 3))\n",
    "for i in range(3):\n",
    "    axs[i].plot(opt_history[i])\n",
    "plt.show()"
   ]
  }
 ],
 "metadata": {
  "kernelspec": {
   "display_name": "cdbo",
   "language": "python",
   "name": "python3"
  },
  "language_info": {
   "codemirror_mode": {
    "name": "ipython",
    "version": 3
   },
   "file_extension": ".py",
   "mimetype": "text/x-python",
   "name": "python",
   "nbconvert_exporter": "python",
   "pygments_lexer": "ipython3",
   "version": "3.10.15"
  }
 },
 "nbformat": 4,
 "nbformat_minor": 2
}
