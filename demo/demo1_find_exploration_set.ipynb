{
 "cells": [
  {
   "cell_type": "markdown",
   "metadata": {},
   "source": [
    "## Preliminaries for all demonstrations\n",
    "\n"
   ]
  },
  {
   "cell_type": "markdown",
   "metadata": {},
   "source": [
    "**Definition 1: Minimal Intervention Set (MIS).** A set of variables $X_s$ is said to be a minimal intervention set for a target variable $Y$ in a causal graph $G$ if there is no "
   ]
  },
  {
   "cell_type": "markdown",
   "metadata": {},
   "source": [
    "**Question 1:** In the paper, the authors considered very small and simple graphs, which might not be the case in practice. Can you give an example of a causal graph with 15 nodes at each time step -- 7 non-manipulable, 7 manipulable, and 1 target variable, how would you get the exploration set (a key input to the algorithm)? Would you write a program for this purpose?  Is it enough to have simply the causal diagram to get the exploration set?  What additional specifications do you need ?"
   ]
  },
  {
   "cell_type": "markdown",
   "metadata": {},
   "source": [
    "Below is a simple example of a causal graph with 15 nodes. "
   ]
  },
  {
   "cell_type": "markdown",
   "metadata": {},
   "source": [
    "![An example causal graph with 15 nodes.](graphs_15_nodes.svg)\n",
    "\n",
    "*Figure 1: An example causal graph with 15 nodes.*"
   ]
  }
 ],
 "metadata": {
  "language_info": {
   "name": "python"
  }
 },
 "nbformat": 4,
 "nbformat_minor": 2
}
