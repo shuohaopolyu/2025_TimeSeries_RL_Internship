{
 "cells": [
  {
   "cell_type": "markdown",
   "metadata": {},
   "source": [
    "## Preliminaries for all demonstrations\n",
    "For all demonstrations, we adopt the conventions commonly used in the causal inference literature. An unbolded italic captial letter represents a random variable, simply referred to as a variable. A bolded roman capital letter represents a set of variables. For example, $X$ is a variable, and $\\mathbf{X} = \\{ X_i \\}_{i=1}^n$ is a set of variables. The domain of the variable is denoted by $D(X)$. A lowercase italic letter $x \\in D(X)$ represents a value that is assigned to $X$, and a bolded lowercase letter $\\mathbf{x} = \\{ x_i \\}_{i=1}^n$ represents a set of values that are assigned to $\\mathbf{X}$. The distribution of a variable or a set of variable is denoted by $P(X)$ or $P(\\mathbf{X})$, respectively.\n",
    "\n",
    "A causal graph is denoted by $G = \\langle \\mathbf{V}, \\mathbf{E} \\rangle$. Here, $\\mathbf{V}$ is a set of vertices, each of which represents a variable, and $\\mathbf{E}$ is a set of edges, each of which represents a direct causal relationship between two variables. We also use family notations to represent the set of variables that are parents ($pa(\\cdot)$), children ($ch(\\cdot)$), ancestors ($an(\\cdot)$), and descendants ($de(\\cdot)$) of a given variable, respectively. \n",
    "\n",
    "Structural equation model (SEM) is adpopted to represent the causality in the causal graph. An SEM $M$ is a tuple $\\langle \\mathbf{U}, \\mathbf{V}, \\mathbf{F}, P(\\mathbf{U}) \\rangle$, where $\\mathbf{U}$ is a set of indepedent exogenous background variables, of which distribution is controled by $P(\\mathbf{U})$, $\\mathbf{V}$ is a set of observed endogenous variables, and $\\mathbf{F}=\\{f_i\\}_{i=1}^{|\\mathbf{V}|}$ is a set of functions represent the relationships among variables, i.e., $v_i = f_i(pa(v_i), \\mathbf{U}_i)$, with $v_i \\in \\mathbf{V}$, $\\mathbf{U}_i \\subseteq \\mathbf{U}$. The causal graph $G$ encodes the causal relationships among variables in $\\mathbf{V}$. Within $\\mathbf{V}$, there are three types of variables: non-manipulative variables $\\mathbf{C}$, which could not be intervened, manipulative variables $\\mathbf{X}$, which could be intervened, and target variables $\\mathbf{Y}$, which are the variables of interest. In all deomonstations, we consider a single target variable $Y$. Probability of $Y=y$ under intervention $\\text{do}(\\mathbf{x})$ is denoted by $P(y|\\text{do}(\\mathbf{x}))$, where intervention on $\\mathbf{X}$ is describe by the causal graph $G_{\\overline{\\mathbf{X}}}$ that is obtained by removing all edges pointing to $\\mathbf{X}$."
   ]
  },
  {
   "cell_type": "markdown",
   "metadata": {},
   "source": [
    "## Demonstration 1: Finding the minimal intervention sets\n",
    "\n",
    "**Question 1:** In the paper, the authors considered very small and simple graphs, which might not be the case in practice. Can you give an example of a causal graph with 15 nodes at each time step -- 7 non-manipulable, 7 manipulable, and 1 target variable, how would you get the exploration set (a key input to the algorithm)? Would you write a program for this purpose?  Is it enough to have simply the causal diagram to get the exploration set?  What additional specifications do you need ?"
   ]
  },
  {
   "cell_type": "markdown",
   "metadata": {},
   "source": [
    "**Answer:** The example causal graph contains 15 nodes, with nodes $A$ to $G$ (in blue) being manipulable, nodes $H$ to $N$ (in red) being non-manipulable, and node $Y$ (in green) being the target variable. The provided code module generates the exploration set using the `CausalGraph` class and its corresponding `minimal_intervene_set` function. The result includes the full set of minimal intervention sets, totaling 90 candidates (including the empty set) for the given causal graph. The computation takes 0.013 s to complete."
   ]
  },
  {
   "cell_type": "markdown",
   "metadata": {},
   "source": [
    "![An example causal graph with 15 nodes.](graphs_15_nodes.svg)\n",
    "\n",
    "**Fig. 1.** An example causal graph with 15 nodes."
   ]
  },
  {
   "cell_type": "markdown",
   "metadata": {},
   "source": [
    "In order to generate the exploration set, you need to first specify the **vertices** and **edges** of the causal graph, the **target variable**, and the set of **manipulable variables** for the `CausalGraph` object. Then, you can call the `minimal_intervene_set` function to obtain the exploration set."
   ]
  },
  {
   "cell_type": "code",
   "execution_count": 4,
   "metadata": {},
   "outputs": [
    {
     "name": "stdout",
     "output_type": "stream",
     "text": [
      "Minimal intervene set: [[], ['G'], ['F'], ['F', 'G'], ['C'], ['C', 'G'], ['C', 'F'], ['C', 'F', 'G'], ['B'], ['B', 'G'], ['B', 'F'], ['B', 'F', 'G'], ['B', 'C'], ['B', 'C', 'G'], ['B', 'C', 'F'], ['B', 'C', 'F', 'G'], ['E'], ['E', 'G'], ['E', 'C'], ['E', 'C', 'G'], ['E', 'B'], ['E', 'B', 'G'], ['E', 'B', 'C'], ['E', 'B', 'C', 'G'], ['D'], ['D', 'G'], ['D', 'F'], ['D', 'F', 'G'], ['D', 'C'], ['D', 'C', 'G'], ['D', 'C', 'F'], ['D', 'C', 'F', 'G'], ['D', 'B'], ['D', 'B', 'G'], ['D', 'B', 'F'], ['D', 'B', 'F', 'G'], ['D', 'B', 'C'], ['D', 'B', 'C', 'G'], ['D', 'B', 'C', 'F'], ['D', 'B', 'C', 'F', 'G'], ['D', 'E'], ['D', 'E', 'G'], ['D', 'E', 'C'], ['D', 'E', 'C', 'G'], ['D', 'E', 'B'], ['D', 'E', 'B', 'G'], ['D', 'E', 'B', 'C'], ['D', 'E', 'B', 'C', 'G'], ['A'], ['A', 'G'], ['A', 'F'], ['A', 'F', 'G'], ['A', 'C'], ['A', 'C', 'G'], ['A', 'C', 'F'], ['A', 'C', 'F', 'G'], ['A', 'B'], ['A', 'B', 'G'], ['A', 'B', 'F'], ['A', 'B', 'F', 'G'], ['A', 'B', 'C'], ['A', 'B', 'C', 'G'], ['A', 'B', 'C', 'F'], ['A', 'B', 'C', 'F', 'G'], ['A', 'E'], ['A', 'E', 'G'], ['A', 'E', 'C'], ['A', 'E', 'C', 'G'], ['A', 'E', 'B'], ['A', 'E', 'B', 'G'], ['A', 'E', 'B', 'C'], ['A', 'E', 'B', 'C', 'G'], ['A', 'D'], ['A', 'D', 'G'], ['A', 'D', 'F'], ['A', 'D', 'F', 'G'], ['A', 'D', 'C'], ['A', 'D', 'C', 'G'], ['A', 'D', 'C', 'F'], ['A', 'D', 'C', 'F', 'G'], ['A', 'D', 'B'], ['A', 'D', 'B', 'G'], ['A', 'D', 'B', 'F'], ['A', 'D', 'B', 'F', 'G'], ['A', 'D', 'E'], ['A', 'D', 'E', 'G'], ['A', 'D', 'E', 'C'], ['A', 'D', 'E', 'C', 'G'], ['A', 'D', 'E', 'B'], ['A', 'D', 'E', 'B', 'G']]\n",
      "There are 90 minimal intervene sets.\n",
      "Time taken: 0.012998819351196289\n"
     ]
    }
   ],
   "source": [
    "import sys\n",
    "sys.path.append('..')\n",
    "from causal_graph.base import CausalGraph\n",
    "import time\n",
    "\n",
    "vertices = ['A', 'B', 'C', 'D', 'E', 'F', 'G', 'H', 'I', 'J', 'K', 'L', 'M', 'N', 'Y']\n",
    "edges = [('A', 'Y'), \n",
    "         ('B', 'M'), ('B', 'L'), \n",
    "         ('C', 'A'), ('C', 'B'), ('C', 'I'),\n",
    "         ('D', 'H'), ('D', 'Y'),\n",
    "         ('E', 'D'), ('E', 'Y'),\n",
    "         ('F', 'E'),\n",
    "         ('G', 'F'), ('G', 'L'), \n",
    "         ('I', 'A'), ('I', 'J'),\n",
    "         ('J', 'D'), ('J', 'H'), \n",
    "         ('K', 'Y'), ('K', 'B'), ('K', 'C'),\n",
    "         ('L', 'Y'), ('L', 'F'),\n",
    "         ('M', 'N'), ('M', 'G'), ('M', 'L'),\n",
    "         ('N', 'G')]\n",
    "treat_vars =[ 'A', 'B', 'C', 'D', 'E', 'F', 'G']\n",
    "cgobj = CausalGraph(vertices, edges, treat_vars, 'Y')\n",
    "time_start = time.time()\n",
    "mis = cgobj.minimal_intervene_set()\n",
    "time_end = time.time()\n",
    "\n",
    "print(\"Minimal intervene set: {}\".format(mis))\n",
    "print(\"There are {} minimal intervene sets.\".format(len(cgobj.minimal_intervene_set())))\n",
    "print(\"Time taken: {}\".format(time_end - time_start))\n"
   ]
  },
  {
   "cell_type": "markdown",
   "metadata": {},
   "source": [
    "## Rationality of the algorithm\n",
    "\n",
    "**Definition 1: Minimal Intervention Set.** A set of variables $\\mathbf{X}_s$ is said to be a minimal intervention set for a target variable $Y$ in a causal graph $G$ if there is no $\\mathbf{X}_s' \\subset \\mathbf{X}_s$ such that $\\mathbb{E}[y|\\text{do}(\\mathbf{x}_s)] = \\mathbb{E}[y|\\text{do}(\\mathbf{x}_s')]$.\n",
    "\n",
    "**Proposition 1: Minimality.** A set of variables $\\mathbf{X}_s$ is a minimal intervention set for a target variable $Y$ in a causal graph $G$, if an only if $\\mathbf{X}_s \\subseteq an(Y)_{G_{\\overline{\\mathbf{X_s}}}}$\n",
    "\n",
    "<!-- **Proof for Minimality:** Please refer to the  -->"
   ]
  },
  {
   "cell_type": "markdown",
   "metadata": {},
   "source": [
    "The developed algorithm adheres to the principle of minimality. First, by specifying the set of variables $\\mathbf{X_s}$ to be intervened, a `do` function is designed to generate the graph $G_{\\overline{\\mathbf{X_s}}}$, and filter out any verticies that are not ancestors of the target variable $Y$.\n",
    "\n",
    "```python\n",
    "def do(self, do_vars: list[str]):\n",
    "    # do_vars: list of variables to intervene on\n",
    "    do_graph = self.graph.copy()\n",
    "    # delete edges pointing to do_vars\n",
    "    for node in do_vars:\n",
    "        for predecessor in list(do_graph.predecessors(node)):\n",
    "            do_graph.remove_edge(predecessor, node) if predecessor is not None else None\n",
    "    # delete vertices that are not able to reach the output_var\n",
    "    anc_node = list(nx.ancestors(do_graph, self.output_var))\n",
    "    for node in list(do_graph.nodes):\n",
    "        if node not in anc_node+[self.output_var]:\n",
    "            do_graph.remove_node(node)\n",
    "    return do_graph"
   ]
  },
  {
   "cell_type": "markdown",
   "metadata": {},
   "source": [
    "Then, a `in_do_graph` function is designed to check if a given set of variables $\\mathbf{X_s}$ is subset of the ancestors of the target variable $Y$ in the graph $G_{\\overline{\\mathbf{X_s}}}$.\n",
    "\n",
    "```python\n",
    "def in_do_graph(self, do_vars: list[str]):\n",
    "    do_graph = self.do(do_vars)\n",
    "    return is_subset(do_vars, list(do_graph.nodes))"
   ]
  },
  {
   "cell_type": "markdown",
   "metadata": {},
   "source": [
    "Eventually, the function `minimal_intervene_set` is designed to generate the full set of minimal intervention sets by iterating through elements of the power set of the manipulable variables, and filtering out any non-minimal sets.\n",
    "\n",
    "```python\n",
    "def minimal_intervene_set(self) -> list[list[str]]:\n",
    "    # minimal intervention set using a greedy algorithm, check which element of power set is in do_graph\n",
    "    # algorithm still needs optimization\n",
    "    close_idx = []\n",
    "    for treat_var in self.treat_vars:\n",
    "        try:\n",
    "            close_idx.append(nx.shortest_path_length(self.graph, treat_var, self.output_var))\n",
    "        except nx.exception.NetworkXNoPath:\n",
    "            print(f\"No path from {treat_var} to {self.output_var}, removing {treat_var} from treatment variables.\")\n",
    "    sorted_treat_vars = [x for _, x in sorted(zip(close_idx, self.treat_vars), key=lambda pair: pair[0])]\n",
    "\n",
    "    mis = []\n",
    "    for subset in power_set(sorted_treat_vars):\n",
    "        if self.in_do_graph(subset):\n",
    "            mis.append(subset)\n",
    "    return mis"
   ]
  },
  {
   "cell_type": "markdown",
   "metadata": {},
   "source": [
    "## References\n",
    "[1]. S. Lee, E. Bareinboim. Structural Causal Bandits: Where to Intervene? In *Advances in Neural Information Processing Systems* 31, 2018.\n",
    "\n",
    "[2]. V. Aglietti, X. Lu, A. Paleyes, J. González. Causal Bayesian Optimization. In *International Conference on Artificial Intelligence and Statistics* 23, 2020."
   ]
  }
 ],
 "metadata": {
  "kernelspec": {
   "display_name": "cdbo",
   "language": "python",
   "name": "python3"
  },
  "language_info": {
   "codemirror_mode": {
    "name": "ipython",
    "version": 3
   },
   "file_extension": ".py",
   "mimetype": "text/x-python",
   "name": "python",
   "nbconvert_exporter": "python",
   "pygments_lexer": "ipython3",
   "version": "3.10.15"
  }
 },
 "nbformat": 4,
 "nbformat_minor": 2
}
