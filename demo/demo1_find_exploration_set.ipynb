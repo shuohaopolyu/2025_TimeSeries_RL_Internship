{
 "cells": [
  {
   "cell_type": "markdown",
   "metadata": {},
   "source": [
    "## Preliminaries for all demonstrations\n",
    "\n"
   ]
  },
  {
   "cell_type": "markdown",
   "metadata": {},
   "source": [
    "***Definition 1: Minimal Intervention Set (MIS).*** A set of variables $X_s$ is said to be a minimal intervention set for a target variable $Y$ in a causal graph $G$ if there is no "
   ]
  },
  {
   "cell_type": "markdown",
   "metadata": {},
   "source": []
  }
 ],
 "metadata": {
  "language_info": {
   "name": "python"
  }
 },
 "nbformat": 4,
 "nbformat_minor": 2
}
