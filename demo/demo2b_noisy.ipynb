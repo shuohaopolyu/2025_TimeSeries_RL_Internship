{
 "cells": [
  {
   "cell_type": "code",
   "execution_count": 5,
   "metadata": {},
   "outputs": [],
   "source": [
    "import sys\n",
    "sys.path.append(\"..\")\n",
    "\n",
    "from methods.dcbo import DynCausalBayesOpt\n",
    "from utils.sequential_sampling import draw_samples_from_sem_dev\n",
    "from causal_graph.example_dyn_graphs import three_step_stat\n",
    "from sem.stationary import StationaryModel_dev\n",
    "from collections import OrderedDict\n",
    "from utils.costs import equal_cost\n",
    "import matplotlib.pyplot as plt\n",
    "import tensorflow as tf\n",
    "import tensorflow_probability as tfp\n",
    "from collections import OrderedDict\n",
    "tfd = tfp.distributions\n",
    "tf.random.set_seed(0)"
   ]
  },
  {
   "cell_type": "code",
   "execution_count": 6,
   "metadata": {},
   "outputs": [],
   "source": [
    "sem_model = StationaryModel_dev()\n",
    "num_samples = 100\n",
    "temporal_index = 2\n",
    "full_samples = OrderedDict([(key, []) for key in sem_model.static().keys()])\n",
    "epsilon = OrderedDict(\n",
    "    [\n",
    "        (key, tfd.Normal(0.0, 1.0).sample((num_samples, temporal_index+1)))\n",
    "        for key in full_samples.keys()\n",
    "    ]\n",
    ")\n",
    "\n",
    "epsilon_x1 = tf.linspace(-5.0, 5.0, num_samples)[:, tf.newaxis]\n",
    "epsilon_x23 = tfd.Normal(0.0, 1.0).sample((num_samples, 2))\n",
    "epsilon[\"X\"] = tf.concat([epsilon_x1, epsilon_x23], axis=1)\n",
    "epsilon[\"Z\"] = tfd.Normal(0.0, 3.0).sample((num_samples, temporal_index+1))\n",
    "\n",
    "D_obs = draw_samples_from_sem_dev(sem_model, num_samples, temporal_index, epsilon=epsilon)"
   ]
  },
  {
   "cell_type": "code",
   "execution_count": 7,
   "metadata": {},
   "outputs": [],
   "source": [
    "dyn_graph = three_step_stat()\n",
    "\n",
    "D_intervene_ini = OrderedDict()\n",
    "intervention_domain = OrderedDict([(\"X\", [-5.0, 5.0]), (\"Z\", [-5.0, 20.0])])\n",
    "num_trials = 30\n",
    "task = \"min\"\n",
    "cost_fn = equal_cost\n",
    "num_anchor_points = 100\n",
    "num_monte_carlo = 100\n",
    "jitter = 1e-6\n",
    "dcbo = DynCausalBayesOpt(\n",
    "    dyn_graph=dyn_graph,\n",
    "    sem=sem_model,\n",
    "    D_obs=D_obs,\n",
    "    D_intervene_ini=D_intervene_ini,\n",
    "    intervention_domain=intervention_domain,\n",
    "    num_trials=20,\n",
    "    task=\"min\",\n",
    "    cost_fcn=equal_cost,\n",
    "    num_anchor_points= 100,\n",
    "    num_monte_carlo= 100,\n",
    "    ini_global_extreme_abs=10.0,\n",
    "    jitter= 1e-6,\n",
    "    learning_rate=1e-4,\n",
    "    intervene_noise_factor=1e-2,\n",
    "    observation_noise_factor=1.0,\n",
    "    max_training_step=100000,\n",
    "    debug_mode=False,\n",
    ")"
   ]
  },
  {
   "cell_type": "code",
   "execution_count": null,
   "metadata": {},
   "outputs": [
    {
     "name": "stdout",
     "output_type": "stream",
     "text": [
      "[[10.0], [], []]\n"
     ]
    }
   ],
   "source": [
    "opt_history = dcbo.run()"
   ]
  },
  {
   "cell_type": "code",
   "execution_count": null,
   "metadata": {},
   "outputs": [],
   "source": [
    "fig, axs = plt.subplots(1, 3, figsize=(15, 3))\n",
    "for i in range(3):\n",
    "    axs[i].plot(opt_history[i])\n",
    "plt.show()"
   ]
  }
 ],
 "metadata": {
  "kernelspec": {
   "display_name": "cdbo",
   "language": "python",
   "name": "python3"
  },
  "language_info": {
   "codemirror_mode": {
    "name": "ipython",
    "version": 3
   },
   "file_extension": ".py",
   "mimetype": "text/x-python",
   "name": "python",
   "nbconvert_exporter": "python",
   "pygments_lexer": "ipython3",
   "version": "3.10.15"
  }
 },
 "nbformat": 4,
 "nbformat_minor": 2
}
